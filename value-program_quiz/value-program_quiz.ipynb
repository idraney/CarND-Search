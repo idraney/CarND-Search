{
 "cells": [
  {
   "cell_type": "code",
   "execution_count": 11,
   "metadata": {},
   "outputs": [
    {
     "data": {
      "text/plain": [
       "[[11, 99, 7, 6, 5, 4],\n",
       " [10, 99, 6, 5, 4, 3],\n",
       " [9, 99, 5, 4, 3, 2],\n",
       " [8, 99, 4, 3, 2, 1],\n",
       " [7, 6, 5, 4, 99, 0]]"
      ]
     },
     "execution_count": 11,
     "metadata": {},
     "output_type": "execute_result"
    }
   ],
   "source": [
    "# ----------\n",
    "# User Instructions:\n",
    "# \n",
    "# Create a function compute_value which returns\n",
    "# a grid of values. The value of a cell is the minimum\n",
    "# number of moves required to get from the cell to the goal. \n",
    "#\n",
    "# If a cell is a wall or it is impossible to reach the goal from a cell,\n",
    "# assign that cell a value of 99.\n",
    "# ----------\n",
    "\n",
    "grid = [[0, 1, 0, 0, 0, 0],\n",
    "        [0, 1, 0, 0, 0, 0],\n",
    "        [0, 1, 0, 0, 0, 0],\n",
    "        [0, 1, 0, 0, 0, 0],\n",
    "        [0, 0, 0, 0, 1, 0]]\n",
    "goal = [len(grid)-1, len(grid[0])-1]\n",
    "cost = 1 # the cost associated with moving from a cell to an adjacent one\n",
    "\n",
    "delta = [[-1, 0 ], # go up\n",
    "         [ 0, -1], # go left\n",
    "         [ 1, 0 ], # go down\n",
    "         [ 0, 1 ]] # go right\n",
    "\n",
    "delta_name = ['^', '<', 'v', '>']\n",
    "\n",
    "\n",
    "def compute_value(grid,goal,cost):\n",
    "    # ----------------------------------------\n",
    "    # insert code below\n",
    "    # ----------------------------------------\n",
    "    \n",
    "    # make sure your function returns a grid of values as \n",
    "    # demonstrated in the previous video.\n",
    "    \n",
    "    value = [[99 for row in range(len(grid[0]))] for col in range(len(grid))]\n",
    "\n",
    "    change = True\n",
    "    \n",
    "    while change:\n",
    "        change = False\n",
    "        \n",
    "        for x in range(len(grid)):\n",
    "            for y in range(len(grid[0])):\n",
    "                \n",
    "                if goal[0] == x and goal[1] == y:\n",
    "                    if value[x][y] > 0:\n",
    "                        value[x][y] = 0    # Set goal location to zero\n",
    "                        change = True      # Restart while loop\n",
    "                        \n",
    "                elif grid[x][y] == 0:\n",
    "                    for j in range(len(delta)):\n",
    "                        x2 = x + delta[j][0]\n",
    "                        y2 = y + delta[j][1]\n",
    "                        \n",
    "                        if x2 >= 0 and x2 < len(grid) and y2 >=0 and y2 < len(grid[0]) and grid[x][y2] == 0:\n",
    "                            v2 = value[x2][y2] + cost\n",
    "                            \n",
    "                            if v2 < value[x][y]:\n",
    "                                value[x][y] = v2\n",
    "                                change = True\n",
    "                                \n",
    "#         for i in range(len(value)):\n",
    "#             print(value[i])\n",
    "    \n",
    "    return value \n",
    "\n",
    "compute_value(grid,goal,cost)"
   ]
  },
  {
   "cell_type": "code",
   "execution_count": 2,
   "metadata": {},
   "outputs": [
    {
     "name": "stdout",
     "output_type": "stream",
     "text": [
      "name 'search' is not defined\n"
     ]
    }
   ],
   "source": [
    "##### Do Not Modify ######\n",
    "\n",
    "import grader\n",
    "from test import delta, delta_name\n",
    "\n",
    "try:\n",
    "    response = grader.run_grader(search)\n",
    "    print(response)    \n",
    "    \n",
    "except Exception as err:\n",
    "    print(str(err))"
   ]
  },
  {
   "cell_type": "code",
   "execution_count": null,
   "metadata": {},
   "outputs": [],
   "source": []
  }
 ],
 "metadata": {
  "kernelspec": {
   "display_name": "Python 3",
   "language": "python",
   "name": "python3"
  },
  "language_info": {
   "codemirror_mode": {
    "name": "ipython",
    "version": 3
   },
   "file_extension": ".py",
   "mimetype": "text/x-python",
   "name": "python",
   "nbconvert_exporter": "python",
   "pygments_lexer": "ipython3",
   "version": "3.5.2"
  },
  "widgets": {
   "state": {},
   "version": "1.1.2"
  }
 },
 "nbformat": 4,
 "nbformat_minor": 2
}
